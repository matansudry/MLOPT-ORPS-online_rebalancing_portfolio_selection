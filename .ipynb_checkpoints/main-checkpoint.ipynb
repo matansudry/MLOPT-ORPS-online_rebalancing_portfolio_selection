{
 "cells": [
  {
   "cell_type": "code",
   "execution_count": 1,
   "metadata": {},
   "outputs": [],
   "source": [
    "import numpy as np\n",
    "from tqdm import tqdm\n",
    "import math\n",
    "import random\n",
    "import matplotlib.pyplot as plt\n",
    "import statistics\n",
    "from sklearn.preprocessing import normalize\n",
    "import optim.optimizers as optimizers\n",
    "import optim.projections as projections"
   ]
  },
  {
   "cell_type": "code",
   "execution_count": 2,
   "metadata": {},
   "outputs": [],
   "source": [
    "#parameters\n",
    "\n",
    "from scipy.io import loadmat\n",
    "stocks = loadmat('data/data_490_1000.mat')\n",
    "\n",
    "stocks_shape = stocks['A'].shape\n",
    "number_of_stocks = stocks_shape[0]\n",
    "number_of_trades = stocks_shape[1]\n",
    "T = number_of_trades\n",
    "D = math.sqrt(2)\n",
    "G = 1\n",
    "OGD_step = D / (G * math.sqrt(T))\n",
    "OEG_step = OGD_step\n",
    "num_of_simulations = 1"
   ]
  },
  {
   "cell_type": "code",
   "execution_count": 16,
   "metadata": {},
   "outputs": [],
   "source": [
    "#calculating the loss\n",
    "\n",
    "def loss(x, r_t):\n",
    "    return -np.log(np.dot(x, r_t))\n",
    "\n",
    "# revanue in time t\n",
    "def revanue(x, r_t, wealth):\n",
    "#     return np.dot(np.transpose(x), r_t) * wealth\n",
    "    return np.dot(x, r_t) * wealth\n",
    "\n",
    "# normalize vector\n",
    "\n",
    "def normalize_func(x):\n",
    "    sum_x = np.sum(x)\n",
    "    x = x/sum_x\n",
    "    return x\n",
    "\n",
    "# gradient vector\n",
    "def gradient(x, r_t):\n",
    "#     #xTrt\n",
    "#     xTrt = np.dot(np.transpose(x), r_t)\n",
    "#     #scalar\n",
    "#     scalar = -1 / xTrt\n",
    "#     grad = scalar * r_t\n",
    "#     return grad\n",
    "    return -r_t * (1/np.dot(x, r_t))\n",
    "\n",
    "\n",
    "#plot\n",
    "def plot(final_OGD, final_EGD, final_ONS, final_rebalnce, final_fixed_stock, number_of_trades, num_of_simulations):\n",
    "    if final_OGD is not 0:\n",
    "        plt.plot(range(1, number_of_trades+1), final_OGD /  num_of_simulations, 'green')\n",
    "    if final_EGD is not 0:\n",
    "        plt.plot(range(1, number_of_trades+1), final_EGD /  num_of_simulations, 'red')\n",
    "    if final_ONS is not 0:\n",
    "        plt.plot(range(1, number_of_trades+1), final_ONS /  num_of_simulations, 'blue')\n",
    "    if final_rebalnce is not 0:\n",
    "        plt.plot(range(1, number_of_trades+1), final_rebalnce /  num_of_simulations, 'grey')\n",
    "    if final_fixed_stock is not 0:\n",
    "        plt.plot(range(1, number_of_trades+1), final_fixed_stock /  num_of_simulations, 'black')\n",
    "\n",
    "    plt.legend(['OGD', 'EGD', 'ONS'\n",
    "                , 'final_rebalnce', 'final_fixed_stock'], loc='best')\n",
    "    plt.yscale('log')\n",
    "    plt.xscale('log')\n",
    "    plt.grid(True)\n",
    "    plt.ylabel('Wealth')\n",
    "    plt.xlabel('number_of_trades')\n",
    "    plt.title('ORPS methods comparison')\n",
    "    plt.savefig('ORPS methods comparison.png')\n",
    "    plt.show()"
   ]
  },
  {
   "cell_type": "code",
   "execution_count": 4,
   "metadata": {},
   "outputs": [],
   "source": [
    "#get r materix\n",
    "def get_r_matrix(number_of_stocks, number_of_trades, stocks):\n",
    "    r_matrix = np.zeros([number_of_stocks, number_of_trades-1])\n",
    "    for stock in range(number_of_stocks):\n",
    "        for trade in range(number_of_trades-1):\n",
    "            r_matrix[stock][trade] = (stocks['A'][stock][trade + 1])/(stocks['A'][stock][trade])\n",
    "    return r_matrix\n",
    "\n",
    "#fixed_stock_solution\n",
    "def best_fixed_stock_solution_func(number_of_trades, number_of_stocks, r_matrix):\n",
    "    best_fixed_stock_solution = np.zeros(number_of_trades)\n",
    "    for trade in range(number_of_trades-1):\n",
    "        max = None\n",
    "        for stock in range(number_of_stocks):\n",
    "            if max == None or r_matrix[stock][trade] > max:\n",
    "                best_fixed_stock_solution[trade] = stock\n",
    "                max = r_matrix[stock][trade]\n",
    "    return best_fixed_stock_solution\n",
    "\n",
    "# best_rebalnce_solution\n",
    "def best_rebalnce_solution(number_of_trades, r_matrix, number_of_stocks):\n",
    "    best_fixed_stock_solution = best_fixed_stock_solution_func(number_of_trades, number_of_stocks, r_matrix)\n",
    "    best_rebalnce_solution_wealth = np.zeros(number_of_trades)\n",
    "    best_rebalnce_solution_wealth [0] = 1\n",
    "    for trade in range(1,number_of_trades):\n",
    "        best_rebalnce_solution_wealth[trade] = best_rebalnce_solution_wealth[trade-1] * r_matrix[int(best_fixed_stock_solution[trade-1])][trade-1]\n",
    "    return best_rebalnce_solution_wealth\n",
    "\n",
    "# best fixed stock\n",
    "def fixed_stock_func(number_of_stocks, number_of_trades, r_matrix):\n",
    "    all_stocks_wealth = np.zeros([number_of_stocks, number_of_trades])\n",
    "    for stock in range(number_of_stocks):\n",
    "        for trade in range(number_of_trades):\n",
    "            if (trade == 0):\n",
    "                all_stocks_wealth[stock][trade] = 1\n",
    "                continue\n",
    "            all_stocks_wealth[stock][trade] = all_stocks_wealth[stock][trade-1] * r_matrix[stock][trade-1]\n",
    "    max = None\n",
    "    index = None\n",
    "    for stock in range(number_of_stocks):\n",
    "        if ((max == None) or (all_stocks_wealth[stock][number_of_trades-1]>max)):\n",
    "            max = all_stocks_wealth[stock][number_of_trades-1]\n",
    "            index = stock    \n",
    "    return all_stocks_wealth[index, :]"
   ]
  },
  {
   "cell_type": "markdown",
   "metadata": {},
   "source": [
    "# temp reblance, not final"
   ]
  },
  {
   "cell_type": "code",
   "execution_count": 5,
   "metadata": {},
   "outputs": [],
   "source": [
    "### temp reblance, not final\n",
    "\n",
    "def total_gradient(x, r_matrix, number_of_trades):\n",
    "    new_x = 0\n",
    "    for i in range(number_of_trades-1):\n",
    "        new_x += gradient(x,r_matrix[:,i])\n",
    "    return new_x\n",
    "\n",
    "\n",
    "def rebalnce_solution(x, number_of_trades, r_matrix, number_of_stocks,sim, step):\n",
    "    for i in range(1, sim):\n",
    "        grad = total_gradient(x, r_matrix, number_of_trades)\n",
    "#         loss = total_loss(x, r_matrix)\n",
    "        x = x - (step * grad)\n",
    "        x = normalize_func(x)\n",
    "    return x\n",
    "\n",
    "def rebalnce_value(number_of_trades, x, r_matrix):\n",
    "    scores_rebalnce = np.zeros(number_of_trades)\n",
    "    scores_rebalnce[0] += 1\n",
    "    for i in range(1, number_of_trades):\n",
    "        scores_rebalnce[i] = scores_rebalnce[i-1] * (np.dot(np.transpose(x), r_matrix[:,i-1]))\n",
    "    return scores_rebalnce\n",
    "    "
   ]
  },
  {
   "cell_type": "code",
   "execution_count": 6,
   "metadata": {},
   "outputs": [],
   "source": [
    "#Online_gradient_descent\n",
    "def Online_gradient_descent(x, r_matrix, number_of_trades, step):\n",
    "    scores_OGD = np.zeros(number_of_trades)\n",
    "    scores_OGD[0] += 1\n",
    "    for i in range(1, number_of_trades):\n",
    "        x = x - step * gradient(x,r_matrix[:,i-1])\n",
    "        x = normalize_func(x)\n",
    "        scores_OGD[i] += revanue(x, r_matrix[:,i-1], scores_OGD[i-1])\n",
    "    return scores_OGD"
   ]
  },
  {
   "cell_type": "code",
   "execution_count": 11,
   "metadata": {},
   "outputs": [],
   "source": [
    "#denominator of the equation\n",
    "def exp_stocks_t(x, rt, number_of_stocks, step):\n",
    "    sum = 0\n",
    "    for stock in range(number_of_stocks):\n",
    "        sum += x[stock]* math.exp(-step*rt[stock])\n",
    "    return sum\n",
    "\n",
    "#Online Exponentiated Gradient\n",
    "def Online_Exponentiated_Gradient(x, r_matrix, number_of_trades, number_of_stocks, step):\n",
    "    scores_OEG = np.zeros(number_of_trades)\n",
    "    scores_OEG[0] += 1\n",
    "    for i in range(1, number_of_trades):\n",
    "        denominator = exp_stocks_t(x, r_matrix[:,i-1], number_of_stocks, step)\n",
    "        for stock in range(number_of_stocks): \n",
    "            x[stock] = (x[stock] * math.exp(-step * r_matrix[stock,i-1])) / denominator\n",
    "        x = normalize_func(x)\n",
    "        scores_OEG[i] += revanue(x, r_matrix[:,i-1], scores_OEG[i-1])\n",
    "    return scores_OEG"
   ]
  },
  {
   "cell_type": "code",
   "execution_count": 29,
   "metadata": {},
   "outputs": [],
   "source": [
    "def online_newton_step(number_of_trades, number_of_stocks, r_matrix, x):\n",
    "    scores_ONS = np.zeros(number_of_trades)\n",
    "    scores_ONS[0] += 1\n",
    "    D = math.sqrt(2)\n",
    "    G = np.max(np.linalg.norm(r_matrix, axis=0) / np.sum(r_matrix, axis=0))\n",
    "    gamma = 0.5 *  (1 / (4 * G * D))\n",
    "    epsilion = 1 / ((gamma ** 2) * (D**2))\n",
    "    A = epsilion * np.eye(number_of_stocks)\n",
    "    Ainv = (1 / epsilion) * np.eye(number_of_stocks)\n",
    "    for trade in range(1, number_of_trades):\n",
    "        r_t = r_matrix[ : , trade - 1]\n",
    "        grad = gradient(x,r_t)\n",
    "        grad_matrix = np.outer(grad, grad)\n",
    "        A = A + grad_matrix\n",
    "        Ainv = Ainv - (np.dot(Ainv, np.dot(grad_matrix, Ainv)) / (1 + np.dot(grad, np.dot(Ainv, grad))))\n",
    "        yt = x - (1 / gamma) * np.dot(Ainv, grad)\n",
    "        #need to implement MetricInducedSimplexProjection by myself\n",
    "        proj = projections.MetricInducedSimplexProjection(A, eta_min=0.05)\n",
    "        x = proj(yt)\n",
    "        scores_ONS[trade] = revanue(x, r_t, scores_ONS[trade-1])\n",
    "    return scores_ONS\n"
   ]
  },
  {
   "cell_type": "code",
   "execution_count": null,
   "metadata": {},
   "outputs": [],
   "source": []
  },
  {
   "cell_type": "code",
   "execution_count": 26,
   "metadata": {},
   "outputs": [],
   "source": [
    "# def _pt_generator(R, x):\n",
    "#     d, T  = R.shape\n",
    "\n",
    "#     # Hyperparameters\n",
    "#     D = math.sqrt(2)\n",
    "#     G = np.max(np.linalg.norm(R, axis=0) / np.sum(R, axis=0))\n",
    "#     print(G)\n",
    "#     eta = D / (G * math.sqrt(T))\n",
    "#     scores_OGD = np.zeros(number_of_trades)\n",
    "#     scores_OGD[0] += 1\n",
    "#     for i in range(1, number_of_trades):\n",
    "#         x = x - eta * gradient(x,r_matrix[:,i-1])\n",
    "#         x = normalize_func(x)\n",
    "#         scores_OGD[i] += revanue(x, r_matrix[:,i-1], scores_OGD[i-1])\n",
    "#     return scores_OGD"
   ]
  },
  {
   "cell_type": "code",
   "execution_count": 30,
   "metadata": {},
   "outputs": [
    {
     "name": "stderr",
     "output_type": "stream",
     "text": [
      "100%|██████████| 1/1 [00:09<00:00,  9.50s/it]\n"
     ]
    },
    {
     "data": {
      "image/png": "[encoded data removed]",
      "text/plain": [
       "<Figure size 432x288 with 1 Axes>"
      ]
     },
     "metadata": {
      "needs_background": "light"
     },
     "output_type": "display_data"
    }
   ],
   "source": [
    "final_OGD = np.zeros(number_of_trades)\n",
    "final_EGD = np.zeros(number_of_trades)\n",
    "final_ONS = np.zeros(number_of_trades)\n",
    "final_rebalnce = np.zeros(number_of_trades)\n",
    "final_fixed_stock = np.zeros(number_of_trades)\n",
    "for i in tqdm(range(num_of_simulations),total=num_of_simulations):\n",
    "    x = np.zeros(number_of_stocks) + 1 \n",
    "#     x += 1\n",
    "    x = normalize_func(x)\n",
    "    \n",
    "#     G_ = np.max(np.linalg.norm(x, axis=1) / np.sum(x, axis=1))\n",
    "    \n",
    "    r_matrix = get_r_matrix(number_of_stocks, number_of_trades, stocks)\n",
    "#     matan = _pt_generator(r_matrix, x)\n",
    "\n",
    "    \n",
    "    #try\n",
    "#     sim = 1000\n",
    "#     temp_x = rebalnce_solution(x, number_of_trades, r_matrix, number_of_stocks,sim, step)\n",
    "#     rebalnce_3 = rebalnce_value(number_of_trades, temp_x, r_matrix)\n",
    "#     print(rebalnce_3[999])\n",
    "#     raise\n",
    "    \n",
    "    \n",
    "\n",
    "    OGD = Online_gradient_descent(x, r_matrix, number_of_trades, OGD_step)\n",
    "    EGD = Online_Exponentiated_Gradient(x, r_matrix, number_of_trades, number_of_stocks, OEG_step)\n",
    "    ONS = online_newton_step(number_of_trades, number_of_stocks, r_matrix, x )\n",
    "    rebalnce = best_rebalnce_solution(number_of_trades, r_matrix, number_of_stocks)\n",
    "    fixed_stock = fixed_stock_func(number_of_stocks, number_of_trades, r_matrix)\n",
    "    final_OGD += OGD\n",
    "    final_EGD += EGD\n",
    "    final_ONS += ONS\n",
    "    final_rebalnce += rebalnce\n",
    "    final_fixed_stock += fixed_stock\n",
    "    \n",
    "    \n",
    "# raise\n",
    "plot(final_OGD, final_EGD, final_ONS, final_rebalnce, final_fixed_stock, number_of_trades, num_of_simulations)\n",
    "# plot(, final_EGD, final_ONS, final_rebalnce2, final_fixed_stock, number_of_trades, num_of_simulations)"
   ]
  },
  {
   "cell_type": "code",
   "execution_count": 34,
   "metadata": {},
   "outputs": [
    {
     "data": {
      "text/plain": [
       "array([  1.        ,   1.03806339,   1.77814415,   1.82435558,\n",
       "         1.8389603 ,   2.02366355,   2.3855645 ,   2.47898708,\n",
       "         2.69069383,   2.6706304 ,   2.76655553,   2.72924386,\n",
       "         2.96177061,   3.20421373,   3.31440106,   3.52499176,\n",
       "         3.99762884,   4.02478023,   4.25048209,   4.46933082,\n",
       "         5.24840326,   5.42913192,   5.47232417,   5.52673024,\n",
       "         6.0832604 ,   6.38674957,   6.81610234,   7.53988905,\n",
       "         7.76627417,   8.4245117 ,   8.76916749,  10.36918857,\n",
       "        10.31718943,  10.7228869 ,  11.08254703,  11.79904686,\n",
       "        12.3452547 ,  18.89464112,  24.85694027,  26.77333359,\n",
       "        29.20571604,  33.85683609,  33.61331868,  32.69629408,\n",
       "        33.71408324,  34.92020588,  36.81413334,  39.55543723,\n",
       "        39.65416582,  41.36556114,  42.69676518,  47.40233944,\n",
       "        50.09924465,  51.49968489,  58.7097675 ,  59.65906264,\n",
       "        61.22098874,  61.05319001,  62.55173843,  63.43169104,\n",
       "        67.00399573,  69.76380352,  73.16229391,  76.91912997,\n",
       "        78.75282087,  79.93681432,  81.07323642,  83.2547153 ,\n",
       "        83.72206901,  84.38220574,  84.70389535,  87.53216305,\n",
       "        88.05287212,  89.8965605 ,  91.30877128,  98.00784222,\n",
       "        97.66954261,  98.53835816,  98.38895109, 102.09717166,\n",
       "       101.57870533, 105.11051171, 113.21426625, 112.41833216,\n",
       "       120.52654017, 122.3457894 , 126.73168248, 127.61269471,\n",
       "       139.12900905, 141.18640078, 143.00424309, 146.17460986,\n",
       "       149.30282672, 154.49974034, 162.70954631, 170.42215439,\n",
       "       172.33801116, 175.29665638, 176.85766491, 182.50679087])"
      ]
     },
     "execution_count": 34,
     "metadata": {},
     "output_type": "execute_result"
    }
   ],
   "source": [
    "ONS[0:100]"
   ]
  },
  {
   "cell_type": "code",
   "execution_count": 20,
   "metadata": {},
   "outputs": [
    {
     "data": {
      "text/plain": [
       "1.4275043239603635"
      ]
     },
     "execution_count": 20,
     "metadata": {},
     "output_type": "execute_result"
    }
   ],
   "source": [
    "final_OGD[999]"
   ]
  },
  {
   "cell_type": "code",
   "execution_count": null,
   "metadata": {},
   "outputs": [],
   "source": []
  }
 ],
 "metadata": {
  "kernelspec": {
   "display_name": "matan_env",
   "language": "python",
   "name": "matan_env"
  },
  "language_info": {
   "codemirror_mode": {
    "name": "ipython",
    "version": 3
   },
   "file_extension": ".py",
   "mimetype": "text/x-python",
   "name": "python",
   "nbconvert_exporter": "python",
   "pygments_lexer": "ipython3",
   "version": "3.7.4"
  }
 },
 "nbformat": 4,
 "nbformat_minor": 4
}
